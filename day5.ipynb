{
 "cells": [
  {
   "cell_type": "code",
   "execution_count": 1,
   "id": "e57f531e-1370-411a-90e3-2136f3a55efa",
   "metadata": {},
   "outputs": [
    {
     "name": "stdout",
     "output_type": "stream",
     "text": [
      "Madhav is in class 10\n",
      "vishakha is in class 12\n"
     ]
    }
   ],
   "source": [
    "student_1 = ['Madhav',10]\n",
    "student_2 = ['vishakha',12]\n",
    "\n",
    "print(f'{student_1[0]} is in class {student_1[1]}')\n",
    "print(f'{student_2[0]} is in class {student_2[1]}')"
   ]
  },
  {
   "cell_type": "markdown",
   "id": "13500374-065e-44f8-ac87-a3a0c6a952de",
   "metadata": {},
   "source": []
  },
  {
   "cell_type": "markdown",
   "id": "47afbac7-4ac8-4564-9938-8244688cd9d2",
   "metadata": {},
   "source": [
    "OOPS"
   ]
  },
  {
   "cell_type": "code",
   "execution_count": 3,
   "id": "58931425-fe39-4725-992c-8a81a055a218",
   "metadata": {},
   "outputs": [
    {
     "name": "stdout",
     "output_type": "stream",
     "text": [
      "<__main__.Student object at 0x00000287C2823860>\n"
     ]
    }
   ],
   "source": [
    "class Student:\n",
    "    pass\n",
    "\n",
    "student1 = Student()\n",
    "print(student1)"
   ]
  },
  {
   "cell_type": "code",
   "execution_count": 4,
   "id": "4e9cef85-8176-469a-b39a-8c67addb5669",
   "metadata": {},
   "outputs": [
    {
     "name": "stdout",
     "output_type": "stream",
     "text": [
      "Madhav\n",
      "10\n"
     ]
    }
   ],
   "source": [
    "class Student:\n",
    "    name = 'Madhav'\n",
    "    grade = 10\n",
    "\n",
    "student1 = Student()\n",
    "\n",
    "print(student1.name)\n",
    "print(student1.grade)"
   ]
  },
  {
   "cell_type": "code",
   "execution_count": 10,
   "id": "ad87b047-952f-497b-b307-5fbc196e3fde",
   "metadata": {},
   "outputs": [
    {
     "name": "stdout",
     "output_type": "stream",
     "text": [
      "Madhav is in class 11 with 96%\n",
      "Vishakha is in class 12 with 94%\n"
     ]
    }
   ],
   "source": [
    "class Student:\n",
    "    def __init__(self,name,grade,percent):\n",
    "        self.name = name\n",
    "        self.grade = grade\n",
    "        self.percentage = percent\n",
    "    def student_details(self):\n",
    "        print(f\"{self.name} is in class {self.grade} with {self.percentage}%\")\n",
    "\n",
    "student1 = Student('Madhav',11,96)\n",
    "student2 = Student('Vishakha',12,94)\n",
    "\n",
    "student1.student_details()\n",
    "student2.student_details()\n"
   ]
  },
  {
   "cell_type": "code",
   "execution_count": 12,
   "id": "dcf6d14b-dae6-42b8-83ea-22edea7c148f",
   "metadata": {},
   "outputs": [
    {
     "name": "stdout",
     "output_type": "stream",
     "text": [
      "{'name': 'Madhav', 'grade': 11, 'percentage': 96}\n",
      "{'name': 'Vishakha', 'grade': 12, 'percentage': 94}\n"
     ]
    }
   ],
   "source": [
    "print(student1.__dict__)\n",
    "print(student2.__dict__)"
   ]
  },
  {
   "cell_type": "code",
   "execution_count": 15,
   "id": "a92373ca-c8ad-4312-9871-56f5415d9364",
   "metadata": {},
   "outputs": [
    {
     "name": "stdout",
     "output_type": "stream",
     "text": [
      "{'name': 'Madhav', 'grade': 11, 'percentage': 96}\n",
      "{'name': 'Madhav', 'grade': 11}\n"
     ]
    }
   ],
   "source": [
    "print(student1.__dict__)\n",
    "\n",
    "del student1.percentage\n",
    "\n",
    "\n",
    "print(student1.__dict__)"
   ]
  },
  {
   "cell_type": "code",
   "execution_count": 20,
   "id": "13b103a5-ecbe-486d-97cd-b051fcbeb111",
   "metadata": {},
   "outputs": [
    {
     "name": "stdout",
     "output_type": "stream",
     "text": [
      "{'name': 'Madhav', 'grade': 11, 'percentage': 96, 'team': 'A'}\n",
      "B\n",
      "Madhav is in class 11 with 96%,is in team A\n"
     ]
    }
   ],
   "source": [
    "class Student:\n",
    "    def __init__(self,name,grade,percent,team):\n",
    "        self.name = name\n",
    "        self.grade = grade\n",
    "        self.percentage = percent\n",
    "        self.team = team\n",
    "    def student_details(self):\n",
    "        print(f\"{self.name} is in class {self.grade} with {self.percentage}%,is in team {self.team}\")\n",
    "\n",
    "team1 = 'A'\n",
    "team2 = 'B'\n",
    "\n",
    "\n",
    "student1 = Student('Madhav',11,96,team1)\n",
    "student2 = Student('Vishakha',12,94,team2)\n",
    "\n",
    "print(student1.__dict__)\n",
    "print(student2.team)\n",
    "\n",
    "student1.student_details()"
   ]
  },
  {
   "cell_type": "code",
   "execution_count": null,
   "id": "fab7a0df-5e7c-4724-a14d-917158bb9c01",
   "metadata": {},
   "outputs": [],
   "source": []
  },
  {
   "cell_type": "markdown",
   "id": "682541b8-48d7-4b43-a266-2590ba8c31b2",
   "metadata": {},
   "source": [
    "Features\n",
    "#Abstraction\n",
    "#Encapsulation\n",
    "#Inheritance\n",
    "#Polymorphism"
   ]
  },
  {
   "cell_type": "markdown",
   "id": "9d2ace1b-ca80-43d7-8907-59124818dab5",
   "metadata": {},
   "source": [
    "Encapsulation"
   ]
  },
  {
   "cell_type": "code",
   "execution_count": 26,
   "id": "7da284a6-4a00-4966-b5da-0bb3647da434",
   "metadata": {},
   "outputs": [
    {
     "name": "stdout",
     "output_type": "stream",
     "text": [
      "96\n"
     ]
    }
   ],
   "source": [
    "class Student:\n",
    "    def __init__(self,name,grade,percentage):\n",
    "        self.name = name\n",
    "        self.grade = grade\n",
    "        self.__percentage = percentage\n",
    "    def get_percentage(self):\n",
    "        return self.__percentage\n",
    "\n",
    "student1 = Student('Madhav',10,96)\n",
    "\n",
    "print(student1.get_percentage())\n",
    "\n"
   ]
  },
  {
   "cell_type": "markdown",
   "id": "cfdea223-da79-4401-91c9-76edc22e9138",
   "metadata": {},
   "source": [
    "Inheritance"
   ]
  },
  {
   "cell_type": "code",
   "execution_count": 33,
   "id": "bf9a5c48-9423-4bd1-aa59-5374939babb2",
   "metadata": {},
   "outputs": [
    {
     "name": "stdout",
     "output_type": "stream",
     "text": [
      "PCM\n"
     ]
    }
   ],
   "source": [
    "class Student:\n",
    "    def __init__(self,name,grade,percentage):\n",
    "        self.name = name\n",
    "        self.grade = grade\n",
    "        self.percentge = percentage\n",
    "        \n",
    "\n",
    "student1 = Student('Madhav',10,96)\n",
    "student2 = Student('Vishakha',11,94)\n",
    "\n",
    "\n",
    "class GraduateStudent(Student):\n",
    "    def __init__(self,name,grade,percentage,stream):\n",
    "        super().__init__(name,grade,percentage)\n",
    "\n",
    "        self.stream = stream\n",
    "\n",
    "\n",
    "Grad_Student1 = GraduateStudent('Keshav',12,96,'PCM')\n",
    "\n",
    "print(Grad_Student1.stream)\n",
    "    \n",
    "\n",
    "        \n",
    "\n",
    "        "
   ]
  },
  {
   "cell_type": "markdown",
   "id": "92072d39-a341-4435-9ad2-b83b8e64c63e",
   "metadata": {},
   "source": [
    "Polymorphism"
   ]
  },
  {
   "cell_type": "code",
   "execution_count": 35,
   "id": "52f0e0fd-7ac5-41a6-830c-427c3a5e16fa",
   "metadata": {},
   "outputs": [
    {
     "name": "stdout",
     "output_type": "stream",
     "text": [
      "Madhav is in class 10 with 96%.\n",
      "Keshav is in class 12, with 96% and from stream PCM.\n"
     ]
    }
   ],
   "source": [
    "class Student:\n",
    "    def __init__(self, name, grade, percentage):\n",
    "        self.name = name\n",
    "        self.grade = grade\n",
    "        self.percentage = percentage\n",
    "\n",
    "    def student_details(self):\n",
    "        print(f\"{self.name} is in class {self.grade} with {self.percentage}%.\")\n",
    "\n",
    "\n",
    "student1 = Student('Madhav', 10, 96)\n",
    "student2 = Student('Vishakha', 11, 94)\n",
    "\n",
    "\n",
    "class GraduateStudent(Student):\n",
    "    def __init__(self, name, grade, percentage, stream):\n",
    "        super().__init__(name, grade, percentage)\n",
    "        self.stream = stream\n",
    "\n",
    "    def student_details(self):\n",
    "        print(f\"{self.name} is in class {self.grade}, with {self.percentage}% and from stream {self.stream}.\")\n",
    "\n",
    "\n",
    "Grad_Student1 = GraduateStudent('Keshav', 12, 96, 'PCM')\n",
    "\n",
    "student1.student_details()\n",
    "Grad_Student1.student_details()\n"
   ]
  },
  {
   "cell_type": "code",
   "execution_count": null,
   "id": "44954fe6-3c11-478a-9ef0-fd319a0288ec",
   "metadata": {},
   "outputs": [],
   "source": []
  }
 ],
 "metadata": {
  "kernelspec": {
   "display_name": "Python 3 (ipykernel)",
   "language": "python",
   "name": "python3"
  },
  "language_info": {
   "codemirror_mode": {
    "name": "ipython",
    "version": 3
   },
   "file_extension": ".py",
   "mimetype": "text/x-python",
   "name": "python",
   "nbconvert_exporter": "python",
   "pygments_lexer": "ipython3",
   "version": "3.12.3"
  }
 },
 "nbformat": 4,
 "nbformat_minor": 5
}
